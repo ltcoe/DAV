{
 "cells": [
  {
   "cell_type": "code",
   "execution_count": 4,
   "metadata": {},
   "outputs": [],
   "source": [
    "from textblob import TextBlob\n",
    "\n",
    "text = \"I love Python programming! but it is difficult to understand\""
   ]
  },
  {
   "cell_type": "code",
   "execution_count": 7,
   "metadata": {},
   "outputs": [
    {
     "name": "stdout",
     "output_type": "stream",
     "text": [
      "Sentiment Polarity: 0.0625\n",
      "Sentiment Subjective: 0.8\n",
      "The text is positive\n"
     ]
    }
   ],
   "source": [
    "blob = TextBlob(text)\n",
    "\n",
    "sentiment = blob.sentiment\n",
    "\n",
    "print(\"Sentiment Polarity:\", sentiment.polarity)\n",
    "print(\"Sentiment Subjective:\", sentiment.subjectivity)\n",
    "\n",
    "if sentiment.polarity>0:\n",
    "    print(\"The text is positive.\")\n",
    "elif sentiment.polarity<0:\n",
    "    print(\"The text is negative.\")\n",
    "else:\n",
    "    print(\"The text is neural.\")\n",
    "    "
   ]
  },
  {
   "cell_type": "code",
   "execution_count": null,
   "metadata": {},
   "outputs": [],
   "source": []
  }
 ],
 "metadata": {
  "kernelspec": {
   "display_name": "Python 3",
   "language": "python",
   "name": "python3"
  },
  "language_info": {
   "codemirror_mode": {
    "name": "ipython",
    "version": 3
   },
   "file_extension": ".py",
   "mimetype": "text/x-python",
   "name": "python",
   "nbconvert_exporter": "python",
   "pygments_lexer": "ipython3",
   "version": "3.11.1"
  }
 },
 "nbformat": 4,
 "nbformat_minor": 2
}
